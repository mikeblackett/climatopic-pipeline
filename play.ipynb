{
 "cells": [
  {
   "metadata": {
    "ExecuteTime": {
     "end_time": "2025-01-20T13:39:00.059889Z",
     "start_time": "2025-01-20T13:38:58.213424Z"
    }
   },
   "cell_type": "code",
   "source": [
    "from climatopic.core.indicators import indicators\n",
    "\n",
    "indicators.warm_days.injected_parameters"
   ],
   "outputs": [
    {
     "name": "stderr",
     "output_type": "stream",
     "text": [
      "/home/mike/Documents/Dev/climatopic-pipeline/src/climatopic/core/asset_factory/asset_template.py:48: ExperimentalWarning: Parameter `owners` of initializer `AssetSpec.__init__` is experimental. It may break in future versions, even between dot releases. To mute warnings for experimental functionality, invoke warnings.filterwarnings(\"ignore\", category=dagster.ExperimentalWarning) or use one of the other methods described at https://docs.python.org/3/library/warnings.html#describing-warning-filters.\n",
      "  self._spec = AssetSpec(\n",
      "/home/mike/Documents/Dev/climatopic-pipeline/src/climatopic/core/asset_factory/asset_template.py:366: ExperimentalWarning: Parameter `specs` of function `AssetsDefinition.__init__` is experimental. It may break in future versions, even between dot releases. To mute warnings for experimental functionality, invoke warnings.filterwarnings(\"ignore\", category=dagster.ExperimentalWarning) or use one of the other methods described at https://docs.python.org/3/library/warnings.html#describing-warning-filters.\n",
      "  return AssetsDefinition(specs=specs)\n",
      "/home/mike/Documents/Dev/climatopic-pipeline/src/climatopic/core/asset_factory/asset_template.py:48: ExperimentalWarning: Parameter `owners` of initializer `AssetSpec.__init__` is experimental. It may break in future versions, even between dot releases. To mute warnings for experimental functionality, invoke warnings.filterwarnings(\"ignore\", category=dagster.ExperimentalWarning) or use one of the other methods described at https://docs.python.org/3/library/warnings.html#describing-warning-filters.\n",
      "  self._spec = AssetSpec(\n",
      "/home/mike/Documents/Dev/climatopic-pipeline/src/climatopic/core/asset_factory/asset_template.py:48: ExperimentalWarning: Parameter `owners` of initializer `AssetSpec.__init__` is experimental. It may break in future versions, even between dot releases. To mute warnings for experimental functionality, invoke warnings.filterwarnings(\"ignore\", category=dagster.ExperimentalWarning) or use one of the other methods described at https://docs.python.org/3/library/warnings.html#describing-warning-filters.\n",
      "  self._spec = AssetSpec(\n",
      "/home/mike/Documents/Dev/climatopic-pipeline/src/climatopic/core/asset_factory/asset_template.py:48: ExperimentalWarning: Parameter `owners` of initializer `AssetSpec.__init__` is experimental. It may break in future versions, even between dot releases. To mute warnings for experimental functionality, invoke warnings.filterwarnings(\"ignore\", category=dagster.ExperimentalWarning) or use one of the other methods described at https://docs.python.org/3/library/warnings.html#describing-warning-filters.\n",
      "  self._spec = AssetSpec(\n",
      "/home/mike/Documents/Dev/climatopic-pipeline/src/climatopic/core/asset_factory/asset_template.py:48: ExperimentalWarning: Parameter `owners` of initializer `AssetSpec.__init__` is experimental. It may break in future versions, even between dot releases. To mute warnings for experimental functionality, invoke warnings.filterwarnings(\"ignore\", category=dagster.ExperimentalWarning) or use one of the other methods described at https://docs.python.org/3/library/warnings.html#describing-warning-filters.\n",
      "  self._spec = AssetSpec(\n",
      "/home/mike/Documents/Dev/climatopic-pipeline/src/climatopic/definitions.py:30: ExperimentalWarning: Static method `Definitions.merge` is experimental. It may break in future versions, even between dot releases. To mute warnings for experimental functionality, invoke warnings.filterwarnings(\"ignore\", category=dagster.ExperimentalWarning) or use one of the other methods described at https://docs.python.org/3/library/warnings.html#describing-warning-filters.\n",
      "  defs: Definitions = Definitions.merge(\n"
     ]
    },
    {
     "data": {
      "text/plain": [
       "{'per_thresh': 90}"
      ]
     },
     "execution_count": 3,
     "metadata": {},
     "output_type": "execute_result"
    }
   ],
   "execution_count": 3
  }
 ],
 "metadata": {
  "kernelspec": {
   "display_name": ".venv",
   "language": "python",
   "name": "python3"
  },
  "language_info": {
   "codemirror_mode": {
    "name": "ipython",
    "version": 3
   },
   "file_extension": ".py",
   "mimetype": "text/x-python",
   "name": "python",
   "nbconvert_exporter": "python",
   "pygments_lexer": "ipython3",
   "version": "3.12.7"
  }
 },
 "nbformat": 4,
 "nbformat_minor": 2
}
