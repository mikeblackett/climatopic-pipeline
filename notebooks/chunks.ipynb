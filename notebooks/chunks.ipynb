{
 "cells": [
  {
   "metadata": {
    "ExecuteTime": {
     "end_time": "2025-04-16T20:18:50.914802Z",
     "start_time": "2025-04-16T20:18:50.688415Z"
    }
   },
   "cell_type": "code",
   "source": [
    "\n",
    "import xarray as xr"
   ],
   "id": "62e44c1b11bf54d5",
   "outputs": [],
   "execution_count": 1
  },
  {
   "metadata": {
    "collapsed": true,
    "ExecuteTime": {
     "end_time": "2025-04-16T20:18:55.792981Z",
     "start_time": "2025-04-16T20:18:52.270537Z"
    }
   },
   "cell_type": "code",
   "source": [
    "ds = xr.open_mfdataset('/mnt/Data/HadUK-Grid/v1.3.0.ceda/5km/tasmin/day/v20240514/*.nc',\n",
    "                       combine='nested',\n",
    "                       combine_attrs='override',\n",
    "                       compat='override',\n",
    "                       concat_dim='time',\n",
    "                       coords='minimal',\n",
    "                       data_vars='minimal',\n",
    "                       )\n",
    "print(ds)\n"
   ],
   "id": "initial_id",
   "outputs": [
    {
     "name": "stdout",
     "output_type": "stream",
     "text": [
      "<xarray.Dataset> Size: 10GB\n",
      "Dimensions:                       (time: 23376, projection_y_coordinate: 290,\n",
      "                                   projection_x_coordinate: 180, bnds: 2)\n",
      "Coordinates:\n",
      "  * time                          (time) datetime64[ns] 187kB 1960-01-01T12:0...\n",
      "  * projection_y_coordinate       (projection_y_coordinate) float64 2kB -1.97...\n",
      "  * projection_x_coordinate       (projection_x_coordinate) float64 1kB -1.97...\n",
      "    latitude                      (projection_y_coordinate, projection_x_coordinate) float64 418kB dask.array<chunksize=(290, 180), meta=np.ndarray>\n",
      "    longitude                     (projection_y_coordinate, projection_x_coordinate) float64 418kB dask.array<chunksize=(290, 180), meta=np.ndarray>\n",
      "Dimensions without coordinates: bnds\n",
      "Data variables:\n",
      "    tasmin                        (time, projection_y_coordinate, projection_x_coordinate) float64 10GB dask.array<chunksize=(31, 290, 180), meta=np.ndarray>\n",
      "    transverse_mercator           int32 4B ...\n",
      "    time_bnds                     (time, bnds) datetime64[ns] 374kB dask.array<chunksize=(31, 2), meta=np.ndarray>\n",
      "    projection_y_coordinate_bnds  (projection_y_coordinate, bnds) float64 5kB dask.array<chunksize=(290, 2), meta=np.ndarray>\n",
      "    projection_x_coordinate_bnds  (projection_x_coordinate, bnds) float64 3kB dask.array<chunksize=(180, 2), meta=np.ndarray>\n",
      "Attributes:\n",
      "    comment:        Daily resolution gridded climate observations\n",
      "    creation_date:  2024-05-17T09:46:51\n",
      "    frequency:      day\n",
      "    institution:    Met Office\n",
      "    references:     doi: 10.1002/gdj3.78\n",
      "    short_name:     daily_mintemp\n",
      "    source:         HadUK-Grid_v1.3.0.0\n",
      "    title:          Gridded surface climate observations data for the UK\n",
      "    version:        v20240514\n",
      "    Conventions:    CF-1.7\n"
     ]
    }
   ],
   "execution_count": 2
  },
  {
   "metadata": {
    "ExecuteTime": {
     "end_time": "2025-04-16T20:19:17.396119Z",
     "start_time": "2025-04-16T20:19:17.390969Z"
    }
   },
   "cell_type": "code",
   "source": [
    "index = ds.time.to_index()\n",
    "xr.infer_freq(index)\n",
    "\n",
    "# idx = np.where(np.diff(index) > pd.Timedelta('1D'))\n",
    "# first = idx[0].item()\n",
    "# index[first-5:first+5]\n",
    "# datetime_to_interval(index)"
   ],
   "id": "73bc7c58aaf3009f",
   "outputs": [
    {
     "data": {
      "text/plain": [
       "'D'"
      ]
     },
     "execution_count": 3,
     "metadata": {},
     "output_type": "execute_result"
    }
   ],
   "execution_count": 3
  },
  {
   "metadata": {
    "ExecuteTime": {
     "end_time": "2025-04-16T20:04:50.082410Z",
     "start_time": "2025-04-16T20:04:50.044705Z"
    }
   },
   "cell_type": "code",
   "source": [
    "dsz = xr.open_zarr('/mnt/Storage/climatopic/variables/tasmin.zarr/')\n",
    "print(dsz.time)"
   ],
   "id": "a45f22300505ad49",
   "outputs": [
    {
     "name": "stdout",
     "output_type": "stream",
     "text": [
      "<xarray.DataArray 'time' (time: 23345)> Size: 187kB\n",
      "array(['1960-01-01T12:00:00.000000000', '1960-01-02T12:00:00.000000000',\n",
      "       '1960-01-03T12:00:00.000000000', ..., '2023-12-29T12:00:00.000000000',\n",
      "       '2023-12-30T12:00:00.000000000', '2023-12-31T12:00:00.000000000'],\n",
      "      dtype='datetime64[ns]')\n",
      "Coordinates:\n",
      "    transverse_mercator  int32 4B ...\n",
      "  * time                 (time) datetime64[ns] 187kB 1960-01-01T12:00:00 ... ...\n",
      "Attributes:\n",
      "    axis:           T\n",
      "    standard_name:  time\n",
      "    bounds:         time_bounds\n"
     ]
    }
   ],
   "execution_count": 10
  }
 ],
 "metadata": {
  "kernelspec": {
   "display_name": "Python 3",
   "language": "python",
   "name": "python3"
  },
  "language_info": {
   "codemirror_mode": {
    "name": "ipython",
    "version": 2
   },
   "file_extension": ".py",
   "mimetype": "text/x-python",
   "name": "python",
   "nbconvert_exporter": "python",
   "pygments_lexer": "ipython2",
   "version": "2.7.6"
  }
 },
 "nbformat": 4,
 "nbformat_minor": 5
}
